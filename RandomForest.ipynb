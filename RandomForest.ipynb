{
 "cells": [
  {
   "cell_type": "code",
   "execution_count": 2,
   "id": "3782bb10",
   "metadata": {},
   "outputs": [],
   "source": [
    "#kütüphaneler\n",
    "import pandas as pd\n",
    "import numpy as np\n",
    "from sklearn.tree import plot_tree\n"
   ]
  },
  {
   "cell_type": "code",
   "execution_count": 3,
   "id": "0705b5d3",
   "metadata": {},
   "outputs": [
    {
     "name": "stdout",
     "output_type": "stream",
     "text": [
      "          Id  ClumpThickness   UniformityCellSize  UniformityCellShape  \\\n",
      "0    1000025                5                   1                    1   \n",
      "1    1002945                5                   4                    4   \n",
      "2    1015425                3                   1                    1   \n",
      "3    1016277                6                   8                    8   \n",
      "4    1017023                4                   1                    1   \n",
      "..       ...              ...                 ...                  ...   \n",
      "678   776715                3                   1                    1   \n",
      "679   841769                2                   1                    1   \n",
      "680   888820                5                  10                   10   \n",
      "681   897471                4                   8                    6   \n",
      "682   897471                4                   8                    8   \n",
      "\n",
      "     MarginalAdhesion  SingleEpithelialCellSize  BareNuclei  BlandChromatin  \\\n",
      "0                   1                         2           1               3   \n",
      "1                   5                         7          10               3   \n",
      "2                   1                         2           2               3   \n",
      "3                   1                         3           4               3   \n",
      "4                   3                         2           1               3   \n",
      "..                ...                       ...         ...             ...   \n",
      "678                 1                         3           2               1   \n",
      "679                 1                         2           1               1   \n",
      "680                 3                         7           3               8   \n",
      "681                 4                         3           4              10   \n",
      "682                 5                         4           5              10   \n",
      "\n",
      "     NormalNucleoli  Mitoses  Malignite  \n",
      "0                 1        1          2  \n",
      "1                 2        1          2  \n",
      "2                 1        1          2  \n",
      "3                 7        1          2  \n",
      "4                 1        1          2  \n",
      "..              ...      ...        ...  \n",
      "678               1        1          2  \n",
      "679               1        1          2  \n",
      "680              10        2          4  \n",
      "681               6        1          4  \n",
      "682               4        1          4  \n",
      "\n",
      "[683 rows x 11 columns]\n"
     ]
    }
   ],
   "source": [
    "#Data oku\n",
    "data_csv = r\"D:\\\\\\\\\\data.csv\"\n",
    "data = pd.read_csv(data_csv)\n",
    "print(data)"
   ]
  },
  {
   "cell_type": "code",
   "execution_count": 4,
   "id": "f0fd1598",
   "metadata": {},
   "outputs": [],
   "source": [
    "#Bağımlı-bağımsız değişken belirle;\n",
    "X = data.drop([\"Id\", \"Malignite\" ],axis=1)\n",
    "#print(X)\n",
    "y = data[\"Malignite\"]\n",
    "#print(y)"
   ]
  },
  {
   "cell_type": "code",
   "execution_count": 5,
   "id": "d4568f2d",
   "metadata": {},
   "outputs": [],
   "source": [
    "#Train-test kümesi oluşturma;\n",
    "from sklearn.model_selection import train_test_split\n",
    "X_train, X_test, y_train, y_test = train_test_split(X,y,test_size=0.20, random_state=0)\n"
   ]
  },
  {
   "cell_type": "code",
   "execution_count": 6,
   "id": "e376877c",
   "metadata": {},
   "outputs": [],
   "source": [
    "from sklearn.ensemble import RandomForestClassifier\n",
    "rfc = RandomForestClassifier(n_estimators=10)\n",
    "rfc.fit(X_train, y_train)\n",
    "y_pred = rfc.predict(X_test)"
   ]
  },
  {
   "cell_type": "code",
   "execution_count": 7,
   "id": "f72c1fa8",
   "metadata": {},
   "outputs": [
    {
     "name": "stdout",
     "output_type": "stream",
     "text": [
      "Random Forest Sonuçlar:\n",
      "------------------------------\n",
      "accuracy:\n",
      "0.9963369963369964\n",
      "------------------------------\n",
      "f1 Score:\n",
      "0.9607966577004521\n",
      "------------------------------\n",
      "Precision:\n",
      "0.9589603283173734\n",
      "------------------------------\n"
     ]
    }
   ],
   "source": [
    "#Sonuçlar;\n",
    "\n",
    "print(\"Random Forest Sonuçlar:\")\n",
    "print(\"------------------------------\")\n",
    "\n",
    "from sklearn.metrics import r2_score,accuracy_score,f1_score, precision_score\n",
    "from sklearn import metrics\n",
    "print(\"accuracy:\")\n",
    "print(accuracy_score(y_train,rfc.predict(X_train)))\n",
    "print(\"------------------------------\")\n",
    "\n",
    "from sklearn.metrics import f1_score\n",
    "print(\"f1 Score:\")\n",
    "print(f1_score(y_test, y_pred, average='macro'))\n",
    "print(\"------------------------------\")\n",
    "\n",
    "from sklearn.metrics import precision_score\n",
    "print(\"Precision:\")\n",
    "print(precision_score(y_test,y_pred, average='macro'))\n",
    "print(\"------------------------------\")"
   ]
  },
  {
   "cell_type": "code",
   "execution_count": null,
   "id": "9991b4f7",
   "metadata": {},
   "outputs": [],
   "source": []
  }
 ],
 "metadata": {
  "kernelspec": {
   "display_name": "Python 3 (ipykernel)",
   "language": "python",
   "name": "python3"
  },
  "language_info": {
   "codemirror_mode": {
    "name": "ipython",
    "version": 3
   },
   "file_extension": ".py",
   "mimetype": "text/x-python",
   "name": "python",
   "nbconvert_exporter": "python",
   "pygments_lexer": "ipython3",
   "version": "3.7.13"
  }
 },
 "nbformat": 4,
 "nbformat_minor": 5
}
