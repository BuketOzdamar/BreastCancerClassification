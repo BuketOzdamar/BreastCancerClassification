{
 "cells": [
  {
   "cell_type": "code",
   "execution_count": 1,
   "id": "6a032cf6",
   "metadata": {},
   "outputs": [],
   "source": [
    "#Kütüphaneler;\n",
    "import pandas as pd\n",
    "import numpy as np\n",
    "import matplotlib.pyplot as plt\n",
    "import seaborn as sns"
   ]
  },
  {
   "cell_type": "code",
   "execution_count": 3,
   "id": "fd05734b",
   "metadata": {},
   "outputs": [
    {
     "name": "stdout",
     "output_type": "stream",
     "text": [
      "          Id  ClumpThickness   UniformityCellSize  UniformityCellShape  \\\n",
      "0    1000025                5                   1                    1   \n",
      "1    1002945                5                   4                    4   \n",
      "2    1015425                3                   1                    1   \n",
      "3    1016277                6                   8                    8   \n",
      "4    1017023                4                   1                    1   \n",
      "..       ...              ...                 ...                  ...   \n",
      "678   776715                3                   1                    1   \n",
      "679   841769                2                   1                    1   \n",
      "680   888820                5                  10                   10   \n",
      "681   897471                4                   8                    6   \n",
      "682   897471                4                   8                    8   \n",
      "\n",
      "     MarginalAdhesion  SingleEpithelialCellSize  BareNuclei  BlandChromatin  \\\n",
      "0                   1                         2           1               3   \n",
      "1                   5                         7          10               3   \n",
      "2                   1                         2           2               3   \n",
      "3                   1                         3           4               3   \n",
      "4                   3                         2           1               3   \n",
      "..                ...                       ...         ...             ...   \n",
      "678                 1                         3           2               1   \n",
      "679                 1                         2           1               1   \n",
      "680                 3                         7           3               8   \n",
      "681                 4                         3           4              10   \n",
      "682                 5                         4           5              10   \n",
      "\n",
      "     NormalNucleoli  Mitoses  Malignite  \n",
      "0                 1        1          2  \n",
      "1                 2        1          2  \n",
      "2                 1        1          2  \n",
      "3                 7        1          2  \n",
      "4                 1        1          2  \n",
      "..              ...      ...        ...  \n",
      "678               1        1          2  \n",
      "679               1        1          2  \n",
      "680              10        2          4  \n",
      "681               6        1          4  \n",
      "682               4        1          4  \n",
      "\n",
      "[683 rows x 11 columns]\n"
     ]
    }
   ],
   "source": [
    "#Data oku\n",
    "data_csv = r\"D:\\\\\\\\\\data.csv\"\n",
    "data = pd.read_csv(data_csv)\n",
    "print(data)"
   ]
  },
  {
   "cell_type": "code",
   "execution_count": 4,
   "id": "2ca71f89",
   "metadata": {},
   "outputs": [
    {
     "name": "stdout",
     "output_type": "stream",
     "text": [
      "     ClumpThickness   UniformityCellSize  UniformityCellShape  \\\n",
      "0                  5                   1                    1   \n",
      "1                  5                   4                    4   \n",
      "2                  3                   1                    1   \n",
      "3                  6                   8                    8   \n",
      "4                  4                   1                    1   \n",
      "..               ...                 ...                  ...   \n",
      "678                3                   1                    1   \n",
      "679                2                   1                    1   \n",
      "680                5                  10                   10   \n",
      "681                4                   8                    6   \n",
      "682                4                   8                    8   \n",
      "\n",
      "     MarginalAdhesion  SingleEpithelialCellSize  BareNuclei  BlandChromatin  \\\n",
      "0                   1                         2           1               3   \n",
      "1                   5                         7          10               3   \n",
      "2                   1                         2           2               3   \n",
      "3                   1                         3           4               3   \n",
      "4                   3                         2           1               3   \n",
      "..                ...                       ...         ...             ...   \n",
      "678                 1                         3           2               1   \n",
      "679                 1                         2           1               1   \n",
      "680                 3                         7           3               8   \n",
      "681                 4                         3           4              10   \n",
      "682                 5                         4           5              10   \n",
      "\n",
      "     NormalNucleoli  Mitoses  \n",
      "0                 1        1  \n",
      "1                 2        1  \n",
      "2                 1        1  \n",
      "3                 7        1  \n",
      "4                 1        1  \n",
      "..              ...      ...  \n",
      "678               1        1  \n",
      "679               1        1  \n",
      "680              10        2  \n",
      "681               6        1  \n",
      "682               4        1  \n",
      "\n",
      "[683 rows x 9 columns]\n",
      "0      2\n",
      "1      2\n",
      "2      2\n",
      "3      2\n",
      "4      2\n",
      "      ..\n",
      "678    2\n",
      "679    2\n",
      "680    4\n",
      "681    4\n",
      "682    4\n",
      "Name: Malignite, Length: 683, dtype: int64\n"
     ]
    }
   ],
   "source": [
    "#Bağımlı-bağımsız değişken belirle;\n",
    "X = data.drop([\"Id\", \"Malignite\" ],axis=1)\n",
    "print(X)\n",
    "y = data[\"Malignite\"]\n",
    "print(y)"
   ]
  },
  {
   "cell_type": "code",
   "execution_count": 5,
   "id": "c1e18d05",
   "metadata": {},
   "outputs": [],
   "source": [
    "#Train-test kümesi oluşturma;\n",
    "from sklearn.model_selection import train_test_split\n",
    "X_train, X_test, y_train, y_test = train_test_split(X,y,test_size=0.20, random_state=0)"
   ]
  },
  {
   "cell_type": "code",
   "execution_count": 6,
   "id": "60460655",
   "metadata": {},
   "outputs": [],
   "source": [
    "#Obje oluşturup eğitime geç;\n",
    "from sklearn.neighbors import KNeighborsClassifier\n",
    "knn = KNeighborsClassifier(n_neighbors=5, metric='euclidean')\n",
    "knn.fit(X_train,y_train)\n",
    "y_pred = knn.predict(X_test)"
   ]
  },
  {
   "cell_type": "code",
   "execution_count": 8,
   "id": "4570ca74",
   "metadata": {},
   "outputs": [
    {
     "name": "stdout",
     "output_type": "stream",
     "text": [
      "------------------------------\n",
      "<function confusion_matrix at 0x0000029BC30555E8>\n",
      "------------------------------\n",
      "KNN Sonuçlar:\n",
      "------------------------------\n",
      "Accuracy:\n",
      "0.9798534798534798\n",
      "------------------------------\n",
      "f1 Score:\n",
      "0.968764249886001\n",
      "------------------------------\n",
      "Precision:\n",
      "0.9652714932126697\n",
      "------------------------------\n"
     ]
    }
   ],
   "source": [
    "#Sonuçlar;\n",
    "print(\"------------------------------\")\n",
    "from sklearn.metrics import confusion_matrix\n",
    "cm = confusion_matrix\n",
    "knn_cm = cm(y_test, y_pred)\n",
    "print(cm)\n",
    "print(\"------------------------------\")\n",
    "print(\"KNN Sonuçlar:\")\n",
    "\n",
    "from sklearn.metrics import accuracy_score\n",
    "print(\"------------------------------\")\n",
    "print(\"Accuracy:\")\n",
    "print(accuracy_score(y_train,knn.predict(X_train)))\n",
    "\n",
    "print(\"------------------------------\")\n",
    "from sklearn.metrics import f1_score\n",
    "print(\"f1 Score:\")\n",
    "print(f1_score(y_test, y_pred, average='macro'))\n",
    "\n",
    "print(\"------------------------------\")\n",
    "from sklearn.metrics import precision_score\n",
    "print(\"Precision:\")\n",
    "print(precision_score(y_test,y_pred, average='macro'))\n",
    "print(\"------------------------------\")"
   ]
  },
  {
   "cell_type": "code",
   "execution_count": null,
   "id": "53b1691f",
   "metadata": {},
   "outputs": [],
   "source": []
  }
 ],
 "metadata": {
  "kernelspec": {
   "display_name": "Python 3 (ipykernel)",
   "language": "python",
   "name": "python3"
  },
  "language_info": {
   "codemirror_mode": {
    "name": "ipython",
    "version": 3
   },
   "file_extension": ".py",
   "mimetype": "text/x-python",
   "name": "python",
   "nbconvert_exporter": "python",
   "pygments_lexer": "ipython3",
   "version": "3.7.13"
  }
 },
 "nbformat": 4,
 "nbformat_minor": 5
}
